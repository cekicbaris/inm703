{
 "metadata": {
  "language_info": {
   "codemirror_mode": {
    "name": "ipython",
    "version": 3
   },
   "file_extension": ".py",
   "mimetype": "text/x-python",
   "name": "python",
   "nbconvert_exporter": "python",
   "pygments_lexer": "ipython3",
   "version": "3.8.3-final"
  },
  "orig_nbformat": 2,
  "kernelspec": {
   "name": "python3",
   "display_name": "Python 3.8.3 64-bit ('base': conda)",
   "metadata": {
    "interpreter": {
     "hash": "dca0ade3e726a953b501b15e8e990130d2b7799f14cfd9f4271676035ebe5511"
    }
   }
  }
 },
 "nbformat": 4,
 "nbformat_minor": 2,
 "cells": [
  {
   "cell_type": "code",
   "execution_count": null,
   "metadata": {},
   "outputs": [],
   "source": [
    "import pandas as pd\n",
    "import matplotlib.pyplot as plt\n",
    "import seaborn as sns\n",
    "from model import *\n",
    "from model import Model_Rescorla_Wagner\n"
   ]
  },
  {
   "cell_type": "code",
   "execution_count": null,
   "metadata": {},
   "outputs": [],
   "source": [
    "# -------------------\n",
    "# Blocking Design \n",
    "# -------------------\n",
    "# Define the model\n",
    "experiment = Model_Rescorla_Wager(experiment_name=\"Blocking\", lambda_US=1, beta_US=0.5)\n",
    "\n",
    "# Define the predictors\n",
    "A = Predictor(name='A', alpha = 0.2)\n",
    "B = Predictor(name='B',alpha = 0.2)\n",
    "C = Predictor(name='C',alpha = 0.2)\n",
    "\n",
    "# Define the experiment groups\n",
    "experiment_group = Group(name=\"Experiment Group\")\n",
    "experiment_group.add_phase_for_group(phase_name='Conditioning', predictors=[A], outcome=True, number_of_trial=10)\n",
    "experiment_group.add_phase_for_group(phase_name='Blocking', predictors=[A], outcome=True, number_of_trial=10)\n",
    "experiment.add_group(experiment_group)\n",
    "\n",
    "control_group = Group(name=\"Control Group\")\n",
    "control_group.add_phase_for_group(phase_name='Conditioning', predictors=[C], outcome=True, number_of_trial=10)\n",
    "control_group.add_phase_for_group(phase_name='Blocking', predictors=[A,B], outcome=True, number_of_trial=10)\n",
    "experiment.add_group(control_group)\n",
    "\n",
    "# Run the model\n",
    "experiment.model_run()\n",
    "experiment.display_results(save_to_file=True)"
   ]
  },
  {
   "cell_type": "code",
   "execution_count": null,
   "metadata": {},
   "outputs": [],
   "source": [
    "experiment.result.head()"
   ]
  },
  {
   "cell_type": "code",
   "execution_count": null,
   "metadata": {},
   "outputs": [],
   "source": [
    "# -------------------\n",
    "# Extinction Design\n",
    "# -------------------\n",
    "\n",
    "# Define the model\n",
    "exitinction = Model_Rescorla_Wager(experiment_name=\"Extinction\", lambda_US=1, beta_US=0.5)\n",
    "\n",
    "# Define the predictors\n",
    "A = Predictor(name='A', alpha = 0.2)\n",
    "# Define the experiment groups\n",
    "exitinction_group = Group(name=\"Experiment Group\")\n",
    "exitinction_group.add_phase_for_group(phase_name='Conditioning', predictors=[A], outcome=True, number_of_trial=10)\n",
    "exitinction_group.add_phase_for_group(phase_name='Extinction', predictors=[A], outcome=False, number_of_trial=10)\n",
    "exitinction.add_group(exitinction_group)\n",
    "\n",
    "# Run the model\n",
    "exitinction.model_run()\n",
    "exitinction.display_results(save_to_file=True)"
   ]
  }
 ]
}